{
 "cells": [
  {
   "cell_type": "markdown",
   "metadata": {},
   "source": [
    "# Home2\n",
    "Your home away from home <br>\n",
    "The best location for your needs, anywhere in the world <br>\n",
    "### Inputs: \n",
    "    places (eg. 'Pune, Maharashtra')\n",
    "    Category List (eg. 'Food', 'Restaurant', 'Gym', 'Trails', 'School', 'Train Station')\n",
    "    Limit of Results to return (eg. 75)\n",
    "    Radius of search in metres (eg. 10,000)\n",
    "    Radiums of hotels to search\n",
    "### Outputs:\n",
    "    Cluster of venues coded by criteria\n",
    "    map of cluster\n",
    "    Centroid latitude and longitude for these venues\n",
    "    place near centroid\n",
    "    Hotels near centroid"
   ]
  },
  {
   "cell_type": "markdown",
   "metadata": {},
   "source": [
    "## User Input"
   ]
  },
  {
   "cell_type": "code",
   "execution_count": 6,
   "metadata": {},
   "outputs": [],
   "source": [
    "# places to analyze venues around and obtain best location\n",
    "places=['Bend, Oregon'] \n",
    "# 4square Venue categories of interest (https://developer.foursquare.com/docs/build-with-foursquare/categories)\n",
    "categories=['museum','thai restaurant','gym','night market','national park','state/provincial park','trail']  "
   ]
  },
  {
   "cell_type": "markdown",
   "metadata": {},
   "source": [
    "## Import Libraries"
   ]
  },
  {
   "cell_type": "code",
   "execution_count": 7,
   "metadata": {},
   "outputs": [
    {
     "name": "stdout",
     "output_type": "stream",
     "text": [
      "Libraries imported.\n"
     ]
    }
   ],
   "source": [
    "import numpy as np # library to handle data in a vectorized manner\n",
    "\n",
    "import pandas as pd # library for data analsysis\n",
    "pd.set_option('display.max_columns', None)\n",
    "pd.set_option('display.max_rows', None)\n",
    "\n",
    "import math\n",
    "\n",
    "import json # library to handle JSON files\n",
    "\n",
    "from geopy.geocoders import Nominatim # convert an place into latitude and longitude values\n",
    "\n",
    "import requests # library to handle requests\n",
    "from pandas import json_normalize # tranform JSON file into a pandas dataframe\n",
    "\n",
    "# Matplotlib and associated plotting modules\n",
    "%matplotlib inline\n",
    "import matplotlib.pyplot as plt\n",
    "import matplotlib.cm as cm\n",
    "import matplotlib.colors as colors\n",
    "\n",
    "# import k-means from clustering stage\n",
    "from sklearn.cluster import KMeans\n",
    "\n",
    "#!conda install -c conda-forge folium=0.5.0 --yes # uncomment this line if you haven't completed the Foursquare API lab\n",
    "import folium # map rendering library\n",
    " \n",
    "\n",
    "print('Libraries imported.')"
   ]
  },
  {
   "cell_type": "code",
   "execution_count": 8,
   "metadata": {},
   "outputs": [],
   "source": [
    "# Limit of search results  \n",
    "LIMIT=50\n",
    "radius,hotel_radius=20000,20000\n",
    "centroid_mean_median='median'\n",
    "# Radius of search in km (maximum 100)\n",
    "radius=20\n",
    "# Radius in km to search hotels around from final optimum location (centroid). This list is also sorted by likes    \n",
    "hotel_radius=20 "
   ]
  },
  {
   "cell_type": "markdown",
   "metadata": {},
   "source": [
    "## Functions and Classes"
   ]
  },
  {
   "cell_type": "code",
   "execution_count": 9,
   "metadata": {},
   "outputs": [],
   "source": [
    "def build_tree(data, parent=None):\n",
    "    from anytree import Node, RenderTree\n",
    "    # Define the root node inside the function\n",
    "    root = Node(\"root\")\n",
    "    def _build_tree(data, parent):\n",
    "        if isinstance(data, dict):\n",
    "            for key, value in data.items():\n",
    "                node = Node(key, parent=parent)\n",
    "                _build_tree(value, node)\n",
    "        elif isinstance(data, list):\n",
    "            for index, item in enumerate(data):\n",
    "                node = Node(f'Item {index}', parent=parent)\n",
    "                _build_tree(item, node)\n",
    "        else:\n",
    "            Node(data, parent=parent)\n",
    "    # Build the tree from the JSON data\n",
    "    _build_tree(data, root)\n",
    "    # Print the tree\n",
    "    for pre, fill, node in RenderTree(root):\n",
    "        print(f\"{pre}{node.name}\")\n",
    "        \n",
    "def extract_name_id_pairs(dictionary):\n",
    "    var = {}\n",
    "    def explore_dict(d):\n",
    "        if isinstance(d, dict):\n",
    "            if 'name' in d and 'id' in d:\n",
    "                var[d['name'].lower()] = d['id']\n",
    "            for key, value in d.items():\n",
    "                explore_dict(value)\n",
    "        elif isinstance(d, list):\n",
    "            for item in d:\n",
    "                explore_dict(item)\n",
    "    explore_dict(dictionary)\n",
    "    return var\n"
   ]
  },
  {
   "cell_type": "markdown",
   "metadata": {},
   "source": [
    "<b> Function to get centroids from a df of places </b>"
   ]
  },
  {
   "cell_type": "code",
   "execution_count": 10,
   "metadata": {},
   "outputs": [],
   "source": [
    "def centroids(place_df):\n",
    "    ''' Returns the centroid of a df of places as a dictionary of place:(lat,long)'''\n",
    "    if centroid_mean_median=='mean':\n",
    "        centroid_dict={place:(place_df[place_df.Address==place]['Venue Latitude'].mean(),place_df[\n",
    "            place_df.Address==place]['Venue Longitude'].mean()) for place in places}\n",
    "    else:\n",
    "        centroid_dict={place:(place_df[place_df.Address==place]['Venue Latitude'].median(),place_df[\n",
    "            place_df.Address==place]['Venue Longitude'].medkan()) for place in places}\n",
    "    return centroid_dict"
   ]
  },
  {
   "cell_type": "markdown",
   "metadata": {},
   "source": [
    "## Obtain Location and Venue information in a Dataframe"
   ]
  },
  {
   "cell_type": "markdown",
   "metadata": {},
   "source": [
    "### Create Geolocator using Nominatim and Obtain Location info. for the places"
   ]
  },
  {
   "cell_type": "code",
   "execution_count": 11,
   "metadata": {},
   "outputs": [
    {
     "name": "stdout",
     "output_type": "stream",
     "text": [
      "The geograpical coordinates of Bend, Oregon are 44.0581728, -121.3153096.\n"
     ]
    }
   ],
   "source": [
    "geoagent=\"explorer\"\n",
    "\n",
    "lat=[]\n",
    "long=[]\n",
    "for place in places:\n",
    "    geolocator = Nominatim(user_agent=geoagent)\n",
    "    loc = geolocator.geocode(place)\n",
    "    lat.append(loc.latitude)\n",
    "    long.append(loc.longitude)\n",
    "    print('The geograpical coordinates of '+place +' are {}, {}.'.format(lat[-1], long[-1]))\n",
    "\n"
   ]
  },
  {
   "cell_type": "code",
   "execution_count": 12,
   "metadata": {},
   "outputs": [
    {
     "data": {
      "text/html": [
       "<div>\n",
       "<style scoped>\n",
       "    .dataframe tbody tr th:only-of-type {\n",
       "        vertical-align: middle;\n",
       "    }\n",
       "\n",
       "    .dataframe tbody tr th {\n",
       "        vertical-align: top;\n",
       "    }\n",
       "\n",
       "    .dataframe thead th {\n",
       "        text-align: right;\n",
       "    }\n",
       "</style>\n",
       "<table border=\"1\" class=\"dataframe\">\n",
       "  <thead>\n",
       "    <tr style=\"text-align: right;\">\n",
       "      <th></th>\n",
       "      <th>Name</th>\n",
       "      <th>Latitude</th>\n",
       "      <th>Longitude</th>\n",
       "    </tr>\n",
       "  </thead>\n",
       "  <tbody>\n",
       "    <tr>\n",
       "      <th>0</th>\n",
       "      <td>Bend, Oregon</td>\n",
       "      <td>44.058173</td>\n",
       "      <td>-121.31531</td>\n",
       "    </tr>\n",
       "  </tbody>\n",
       "</table>\n",
       "</div>"
      ],
      "text/plain": [
       "           Name   Latitude  Longitude\n",
       "0  Bend, Oregon  44.058173 -121.31531"
      ]
     },
     "execution_count": 12,
     "metadata": {},
     "output_type": "execute_result"
    }
   ],
   "source": [
    "df_loc=pd.DataFrame({'Name': places,'Latitude': lat, 'Longitude':long})\n",
    "df_loc"
   ]
  },
  {
   "cell_type": "markdown",
   "metadata": {},
   "source": [
    "### Foursquare Credentials"
   ]
  },
  {
   "cell_type": "code",
   "execution_count": 13,
   "metadata": {},
   "outputs": [
    {
     "name": "stdout",
     "output_type": "stream",
     "text": [
      "Your credentails:\n",
      "CLIENT_ID: KB1MA3E55GWTISTXW0GT5LZU1IXBUUDU4VW4QXSKHOQDEVMP\n",
      "CLIENT_SECRET:33L0T0LN54ETAGYXW0W41JCF5CLWHNOUCROOE4NMCUWHTZQA\n"
     ]
    }
   ],
   "source": [
    "CLIENT_ID = 'KB1MA3E55GWTISTXW0GT5LZU1IXBUUDU4VW4QXSKHOQDEVMP' # your Foursquare ID\n",
    "CLIENT_SECRET = '33L0T0LN54ETAGYXW0W41JCF5CLWHNOUCROOE4NMCUWHTZQA' # your Foursquare Secret\n",
    "VERSION = '20240725' # Foursquare API version\n",
    "\n",
    "print('Your credentails:')\n",
    "print('CLIENT_ID: ' + CLIENT_ID)\n",
    "print('CLIENT_SECRET:' + CLIENT_SECRET)"
   ]
  },
  {
   "cell_type": "markdown",
   "metadata": {},
   "source": [
    "### Make list of category names by ID"
   ]
  },
  {
   "cell_type": "code",
   "execution_count": 14,
   "metadata": {},
   "outputs": [],
   "source": [
    "categories_url='https://api.foursquare.com/v2/venues/categories?&client_id={}&client_secret={}&v={}'.format(CLIENT_ID,\n",
    "                                                                                                            CLIENT_SECRET,\n",
    "                                                                                                            VERSION)\n",
    "result=requests.get(categories_url).json()\n",
    "# build_tree(resut)\n",
    "# Build the tree from the JSON data\n",
    "cat_info=result['response']['categories']\n",
    "\n",
    "category_dict=extract_name_id_pairs(cat_info)\n",
    "categories=[category_dict[cat.lower()] for cat in categories if cat in list(category_dict.keys()) ]\n",
    "cat_dict = {value: key for key, value in category_dict.items()}"
   ]
  },
  {
   "cell_type": "code",
   "execution_count": 15,
   "metadata": {},
   "outputs": [],
   "source": [
    "# General Search URL string\n",
    "url_str='https://api.foursquare.com/v2/venues/search?categoryId={}&client_id={}&client_secret={}&ll={},{}&v={}&radius={}&limit={}'\n",
    "# Zipcode Search URL string\n",
    "url_str_zip='https://api.foursquare.com/v2/venues/search?&client_id={}&client_secret={}&ll={},{}&v={}&radius={}&limit={}'"
   ]
  },
  {
   "cell_type": "markdown",
   "metadata": {},
   "source": [
    "### Explore nearby venues"
   ]
  },
  {
   "cell_type": "markdown",
   "metadata": {},
   "source": [
    "<b> Function to get nearby venues matching the \"categories\" given place </b>"
   ]
  },
  {
   "cell_type": "code",
   "execution_count": 16,
   "metadata": {},
   "outputs": [],
   "source": [
    "def getNearbyVenues(names, latitudes, longitudes,url_link,categories, radius):\n",
    "    ''' Create the venue search url and lookup nearby venues and return as dataframe'''\n",
    "    venues_list=[]\n",
    "    for i in range(len(names)):\n",
    "        name=names[i]\n",
    "        lat=latitudes[i]\n",
    "        lng = longitudes[i]\n",
    "        for category in categories:    \n",
    "            # create the API request URL\n",
    "            url = url_link.format(\n",
    "                category,\n",
    "                CLIENT_ID, \n",
    "                CLIENT_SECRET, \n",
    "                lat, \n",
    "                lng, \n",
    "                VERSION,\n",
    "                radius,\n",
    "                LIMIT)\n",
    "            # make the GET request\n",
    "            results = requests.get(url).json()    \n",
    "            print(results)\n",
    "            try:\n",
    "                # return only relevant information for each nearby venue\n",
    "                for j in range(len(results['response']['venues'])):\n",
    "                        venues_list.append([\n",
    "                        name, \n",
    "                        results['response']['venues'][j]['name'],\n",
    "                        results['response']['venues'][j]['id'],\n",
    "                        results['response']['venues'][j]['location']['lat'], \n",
    "                        results['response']['venues'][j]['location']['lng'],  \n",
    "                        results['response']['venues'][j]['categories'][0]['name'],\n",
    "                        category, \n",
    "                        results['response']['venues'][j]['location']['distance'],\n",
    "                        ])\n",
    "            except Exception as E:\n",
    "                    print(E)\n",
    "        \n",
    "    nearby_venues = pd.DataFrame(venues_list)\n",
    "    nearby_venues.columns = ['Address',\n",
    "              'Venue', \n",
    "              'Venue_id',\n",
    "              'Venue Latitude', \n",
    "              'Venue Longitude', \n",
    "              'Venue Category',\n",
    "              'Category ID',\n",
    "              'Distance [m]']\n",
    "        \n",
    "    return(nearby_venues)\n",
    "\n",
    "def getVenueLikes(venue_ids):\n",
    "    ''' Obtain the list of number of likes for the venues in \"venue_ids\"'''\n",
    "    likes_list=[]\n",
    "    for i in range(len(venue_ids)): \n",
    "        # create the API request URL\n",
    "        url_link='https://api.foursquare.com/v2/venues/{}?&client_id={}&client_secret={}&v={}'\n",
    "        url = url_link.format(venue_ids[i],\n",
    "                CLIENT_ID, \n",
    "                CLIENT_SECRET, \n",
    "                VERSION)\n",
    "\n",
    "\n",
    "        # make the GET request\n",
    "        results = requests.get(url).json()\n",
    "        \n",
    "        likes_list.append(results['response']['venue']['likes']['count'])\n",
    "\n",
    "       \n",
    "    return(likes_list)"
   ]
  },
  {
   "cell_type": "markdown",
   "metadata": {},
   "source": [
    "Dataframe of Venues for each place, matching the \"categories\""
   ]
  },
  {
   "cell_type": "code",
   "execution_count": 17,
   "metadata": {},
   "outputs": [
    {
     "name": "stdout",
     "output_type": "stream",
     "text": [
      "{'meta': {'code': 200, 'requestId': '66a79e24c3d9b85b375e0c65'}, 'response': {'venues': []}}\n",
      "{'meta': {'code': 200, 'requestId': '66a79e2426d4203fd8d64b6c'}, 'response': {'venues': []}}\n",
      "{'meta': {'code': 200, 'requestId': '66a79e24d0e24146dad94922'}, 'response': {'venues': []}}\n",
      "{'meta': {'code': 200, 'requestId': '66a79e257156cb0115c9691b'}, 'response': {'venues': []}}\n",
      "{'meta': {'code': 200, 'requestId': '66a79e251884e101a6ec59fe'}, 'response': {'venues': []}}\n"
     ]
    },
    {
     "ename": "ValueError",
     "evalue": "Length mismatch: Expected axis has 0 elements, new values have 8 elements",
     "output_type": "error",
     "traceback": [
      "\u001b[1;31m---------------------------------------------------------------------------\u001b[0m",
      "\u001b[1;31mValueError\u001b[0m                                Traceback (most recent call last)",
      "Cell \u001b[1;32mIn[17], line 2\u001b[0m\n\u001b[0;32m      1\u001b[0m \u001b[38;5;66;03m# Implement 'getNearbyVenues'\u001b[39;00m\n\u001b[1;32m----> 2\u001b[0m loc_venues\u001b[38;5;241m=\u001b[39m\u001b[43mgetNearbyVenues\u001b[49m\u001b[43m(\u001b[49m\u001b[43mdf_loc\u001b[49m\u001b[43m[\u001b[49m\u001b[38;5;124;43m'\u001b[39;49m\u001b[38;5;124;43mName\u001b[39;49m\u001b[38;5;124;43m'\u001b[39;49m\u001b[43m]\u001b[49m\u001b[43m,\u001b[49m\u001b[43m \u001b[49m\u001b[43mdf_loc\u001b[49m\u001b[43m[\u001b[49m\u001b[38;5;124;43m'\u001b[39;49m\u001b[38;5;124;43mLatitude\u001b[39;49m\u001b[38;5;124;43m'\u001b[39;49m\u001b[43m]\u001b[49m\u001b[43m,\u001b[49m\u001b[43mdf_loc\u001b[49m\u001b[43m[\u001b[49m\u001b[38;5;124;43m'\u001b[39;49m\u001b[38;5;124;43mLongitude\u001b[39;49m\u001b[38;5;124;43m'\u001b[39;49m\u001b[43m]\u001b[49m\u001b[43m,\u001b[49m\u001b[43murl_str\u001b[49m\u001b[43m,\u001b[49m\u001b[43mcategories\u001b[49m\u001b[43m,\u001b[49m\u001b[43mradius\u001b[49m\u001b[43m)\u001b[49m\n\u001b[0;32m      3\u001b[0m loc_venues\u001b[38;5;241m.\u001b[39mhead()\n",
      "Cell \u001b[1;32mIn[16], line 39\u001b[0m, in \u001b[0;36mgetNearbyVenues\u001b[1;34m(names, latitudes, longitudes, url_link, categories, radius)\u001b[0m\n\u001b[0;32m     36\u001b[0m                 \u001b[38;5;28mprint\u001b[39m(E)\n\u001b[0;32m     38\u001b[0m nearby_venues \u001b[38;5;241m=\u001b[39m pd\u001b[38;5;241m.\u001b[39mDataFrame(venues_list)\n\u001b[1;32m---> 39\u001b[0m \u001b[43mnearby_venues\u001b[49m\u001b[38;5;241;43m.\u001b[39;49m\u001b[43mcolumns\u001b[49m \u001b[38;5;241m=\u001b[39m [\u001b[38;5;124m'\u001b[39m\u001b[38;5;124mAddress\u001b[39m\u001b[38;5;124m'\u001b[39m,\n\u001b[0;32m     40\u001b[0m           \u001b[38;5;124m'\u001b[39m\u001b[38;5;124mVenue\u001b[39m\u001b[38;5;124m'\u001b[39m, \n\u001b[0;32m     41\u001b[0m           \u001b[38;5;124m'\u001b[39m\u001b[38;5;124mVenue_id\u001b[39m\u001b[38;5;124m'\u001b[39m,\n\u001b[0;32m     42\u001b[0m           \u001b[38;5;124m'\u001b[39m\u001b[38;5;124mVenue Latitude\u001b[39m\u001b[38;5;124m'\u001b[39m, \n\u001b[0;32m     43\u001b[0m           \u001b[38;5;124m'\u001b[39m\u001b[38;5;124mVenue Longitude\u001b[39m\u001b[38;5;124m'\u001b[39m, \n\u001b[0;32m     44\u001b[0m           \u001b[38;5;124m'\u001b[39m\u001b[38;5;124mVenue Category\u001b[39m\u001b[38;5;124m'\u001b[39m,\n\u001b[0;32m     45\u001b[0m           \u001b[38;5;124m'\u001b[39m\u001b[38;5;124mCategory ID\u001b[39m\u001b[38;5;124m'\u001b[39m,\n\u001b[0;32m     46\u001b[0m           \u001b[38;5;124m'\u001b[39m\u001b[38;5;124mDistance [m]\u001b[39m\u001b[38;5;124m'\u001b[39m]\n\u001b[0;32m     48\u001b[0m \u001b[38;5;28;01mreturn\u001b[39;00m(nearby_venues)\n",
      "File \u001b[1;32mc:\\Users\\tiyas\\AppData\\Local\\Programs\\Python\\Python312\\Lib\\site-packages\\pandas\\core\\generic.py:6313\u001b[0m, in \u001b[0;36mNDFrame.__setattr__\u001b[1;34m(self, name, value)\u001b[0m\n\u001b[0;32m   6311\u001b[0m \u001b[38;5;28;01mtry\u001b[39;00m:\n\u001b[0;32m   6312\u001b[0m     \u001b[38;5;28mobject\u001b[39m\u001b[38;5;241m.\u001b[39m\u001b[38;5;21m__getattribute__\u001b[39m(\u001b[38;5;28mself\u001b[39m, name)\n\u001b[1;32m-> 6313\u001b[0m     \u001b[38;5;28;01mreturn\u001b[39;00m \u001b[38;5;28;43mobject\u001b[39;49m\u001b[38;5;241;43m.\u001b[39;49m\u001b[38;5;21;43m__setattr__\u001b[39;49m\u001b[43m(\u001b[49m\u001b[38;5;28;43mself\u001b[39;49m\u001b[43m,\u001b[49m\u001b[43m \u001b[49m\u001b[43mname\u001b[49m\u001b[43m,\u001b[49m\u001b[43m \u001b[49m\u001b[43mvalue\u001b[49m\u001b[43m)\u001b[49m\n\u001b[0;32m   6314\u001b[0m \u001b[38;5;28;01mexcept\u001b[39;00m \u001b[38;5;167;01mAttributeError\u001b[39;00m:\n\u001b[0;32m   6315\u001b[0m     \u001b[38;5;28;01mpass\u001b[39;00m\n",
      "File \u001b[1;32mproperties.pyx:69\u001b[0m, in \u001b[0;36mpandas._libs.properties.AxisProperty.__set__\u001b[1;34m()\u001b[0m\n",
      "File \u001b[1;32mc:\\Users\\tiyas\\AppData\\Local\\Programs\\Python\\Python312\\Lib\\site-packages\\pandas\\core\\generic.py:814\u001b[0m, in \u001b[0;36mNDFrame._set_axis\u001b[1;34m(self, axis, labels)\u001b[0m\n\u001b[0;32m    809\u001b[0m \u001b[38;5;250m\u001b[39m\u001b[38;5;124;03m\"\"\"\u001b[39;00m\n\u001b[0;32m    810\u001b[0m \u001b[38;5;124;03mThis is called from the cython code when we set the `index` attribute\u001b[39;00m\n\u001b[0;32m    811\u001b[0m \u001b[38;5;124;03mdirectly, e.g. `series.index = [1, 2, 3]`.\u001b[39;00m\n\u001b[0;32m    812\u001b[0m \u001b[38;5;124;03m\"\"\"\u001b[39;00m\n\u001b[0;32m    813\u001b[0m labels \u001b[38;5;241m=\u001b[39m ensure_index(labels)\n\u001b[1;32m--> 814\u001b[0m \u001b[38;5;28;43mself\u001b[39;49m\u001b[38;5;241;43m.\u001b[39;49m\u001b[43m_mgr\u001b[49m\u001b[38;5;241;43m.\u001b[39;49m\u001b[43mset_axis\u001b[49m\u001b[43m(\u001b[49m\u001b[43maxis\u001b[49m\u001b[43m,\u001b[49m\u001b[43m \u001b[49m\u001b[43mlabels\u001b[49m\u001b[43m)\u001b[49m\n\u001b[0;32m    815\u001b[0m \u001b[38;5;28mself\u001b[39m\u001b[38;5;241m.\u001b[39m_clear_item_cache()\n",
      "File \u001b[1;32mc:\\Users\\tiyas\\AppData\\Local\\Programs\\Python\\Python312\\Lib\\site-packages\\pandas\\core\\internals\\managers.py:238\u001b[0m, in \u001b[0;36mBaseBlockManager.set_axis\u001b[1;34m(self, axis, new_labels)\u001b[0m\n\u001b[0;32m    236\u001b[0m \u001b[38;5;28;01mdef\u001b[39;00m \u001b[38;5;21mset_axis\u001b[39m(\u001b[38;5;28mself\u001b[39m, axis: AxisInt, new_labels: Index) \u001b[38;5;241m-\u001b[39m\u001b[38;5;241m>\u001b[39m \u001b[38;5;28;01mNone\u001b[39;00m:\n\u001b[0;32m    237\u001b[0m     \u001b[38;5;66;03m# Caller is responsible for ensuring we have an Index object.\u001b[39;00m\n\u001b[1;32m--> 238\u001b[0m     \u001b[38;5;28;43mself\u001b[39;49m\u001b[38;5;241;43m.\u001b[39;49m\u001b[43m_validate_set_axis\u001b[49m\u001b[43m(\u001b[49m\u001b[43maxis\u001b[49m\u001b[43m,\u001b[49m\u001b[43m \u001b[49m\u001b[43mnew_labels\u001b[49m\u001b[43m)\u001b[49m\n\u001b[0;32m    239\u001b[0m     \u001b[38;5;28mself\u001b[39m\u001b[38;5;241m.\u001b[39maxes[axis] \u001b[38;5;241m=\u001b[39m new_labels\n",
      "File \u001b[1;32mc:\\Users\\tiyas\\AppData\\Local\\Programs\\Python\\Python312\\Lib\\site-packages\\pandas\\core\\internals\\base.py:98\u001b[0m, in \u001b[0;36mDataManager._validate_set_axis\u001b[1;34m(self, axis, new_labels)\u001b[0m\n\u001b[0;32m     95\u001b[0m     \u001b[38;5;28;01mpass\u001b[39;00m\n\u001b[0;32m     97\u001b[0m \u001b[38;5;28;01melif\u001b[39;00m new_len \u001b[38;5;241m!=\u001b[39m old_len:\n\u001b[1;32m---> 98\u001b[0m     \u001b[38;5;28;01mraise\u001b[39;00m \u001b[38;5;167;01mValueError\u001b[39;00m(\n\u001b[0;32m     99\u001b[0m         \u001b[38;5;124mf\u001b[39m\u001b[38;5;124m\"\u001b[39m\u001b[38;5;124mLength mismatch: Expected axis has \u001b[39m\u001b[38;5;132;01m{\u001b[39;00mold_len\u001b[38;5;132;01m}\u001b[39;00m\u001b[38;5;124m elements, new \u001b[39m\u001b[38;5;124m\"\u001b[39m\n\u001b[0;32m    100\u001b[0m         \u001b[38;5;124mf\u001b[39m\u001b[38;5;124m\"\u001b[39m\u001b[38;5;124mvalues have \u001b[39m\u001b[38;5;132;01m{\u001b[39;00mnew_len\u001b[38;5;132;01m}\u001b[39;00m\u001b[38;5;124m elements\u001b[39m\u001b[38;5;124m\"\u001b[39m\n\u001b[0;32m    101\u001b[0m     )\n",
      "\u001b[1;31mValueError\u001b[0m: Length mismatch: Expected axis has 0 elements, new values have 8 elements"
     ]
    }
   ],
   "source": [
    "# Implement 'getNearbyVenues'\n",
    "loc_venues=getNearbyVenues(df_loc['Name'], df_loc['Latitude'],df_loc['Longitude'],url_str,categories,radius)\n",
    "loc_venues.head()"
   ]
  },
  {
   "cell_type": "markdown",
   "metadata": {},
   "source": [
    "## Pre-Processing"
   ]
  },
  {
   "cell_type": "markdown",
   "metadata": {},
   "source": [
    "Drop NaN values, set 'Venue' as index column since we are dealing with venues."
   ]
  },
  {
   "cell_type": "code",
   "execution_count": null,
   "metadata": {},
   "outputs": [],
   "source": [
    "loc_venues.set_index('Venue',inplace=True)\n",
    "loc_venues.dropna(inplace=True)\n",
    "loc_venues.shape"
   ]
  },
  {
   "cell_type": "markdown",
   "metadata": {},
   "source": [
    "Print number of categories for each place"
   ]
  },
  {
   "cell_type": "code",
   "execution_count": null,
   "metadata": {},
   "outputs": [],
   "source": [
    "for i in range(len(places)):\n",
    "    print('There are {} uniques categories (including subcategories) for '\n",
    "          .format(len(loc_venues.loc[loc_venues['Address']==places[i],'Venue Category'].unique()))+places[i])"
   ]
  },
  {
   "cell_type": "markdown",
   "metadata": {},
   "source": [
    "## Exploratory Data Analysis"
   ]
  },
  {
   "cell_type": "code",
   "execution_count": null,
   "metadata": {},
   "outputs": [],
   "source": [
    "# Calculate centroid of the venues for each place in loc_venues\n",
    "loc_venues_centroids=centroids(loc_venues)\n",
    "print(loc_venues_centroids)"
   ]
  },
  {
   "cell_type": "markdown",
   "metadata": {},
   "source": [
    "### Make Folium plot to show venues"
   ]
  },
  {
   "cell_type": "code",
   "execution_count": null,
   "metadata": {},
   "outputs": [],
   "source": [
    "maps={}\n",
    "loc_results_lat=[]\n",
    "loc_results_long=[]\n",
    "zip_results={}\n",
    "\n",
    "i=0\n",
    "for place in places:\n",
    "    # create map\n",
    "    clustered=loc_venues[loc_venues['Address']==place]\n",
    "    lat_array=clustered['Venue Latitude']\n",
    "    long_array=clustered['Venue Longitude']\n",
    "    venue_name=clustered.index\n",
    "    \n",
    "    # Calculate mean latitude and longitude\n",
    "    latitude=lat_array.mean()                            \n",
    "    longitude=long_array.mean()\n",
    "    \n",
    "    # Update results latitude and longitude arrays\n",
    "    loc_results_lat.append(latitude)\n",
    "    loc_results_long.append(longitude)\n",
    "    \n",
    "    # Obtain Zipcode\n",
    "    url_zip=url_str_zip.format(CLIENT_ID, CLIENT_SECRET, latitude, longitude, VERSION,500,1)\n",
    "    zip_result=requests.get(url_zip).json()\n",
    "    try:\n",
    "        zip_results[place]=zip_result['response']['venues'][0]['location']['formattedAddress']\n",
    "    except:\n",
    "        zip_results[place]='0'\n",
    "    \n",
    "    print('Centroid for '+str(place)+' at: '+str(round(latitude,5))+', '+str(round(longitude,5))\n",
    "          +', Address:',zip_results[place][0])\n",
    "\n",
    "    map_clusters = folium.Map(location=[latitude, longitude],zoom_start=10)\n",
    "\n",
    "    # add markers to the map\n",
    "    markers_colors = []\n",
    "    for lat, lon, name in zip(lat_array, long_array, \n",
    "                                 venue_name     ):\n",
    "        label = folium.Popup(name, parse_html=True)\n",
    "        folium.Marker(\n",
    "            [lat, lon],\n",
    "            radius=5,\n",
    "            popup=label,\n",
    "            color='blue',\n",
    "            fill=True,\n",
    "            fill_color='blue',\n",
    "            fill_opacity=0.7,\n",
    "                            ).add_to(map_clusters)\n",
    "        \n",
    "    folium.RegularPolygonMarker(location=[latitude, longitude], \n",
    "                                number_of_sides=5,\n",
    "                                popup='Centroid', \n",
    "                                color='red', \n",
    "                                fill=True,\n",
    "                                fill_color='yellow',\n",
    "                                fill_opacity=0.8,\n",
    "                                radius=20).add_to(map_clusters)\n",
    "    \n",
    "    maps[place]=map_clusters\n",
    "    i=i+1\n",
    "\n",
    "lat1=latitude\n",
    "long1=longitude\n",
    "maps[places[0]]\n"
   ]
  },
  {
   "cell_type": "markdown",
   "metadata": {},
   "source": [
    "### Make Venue Longitude and Latitude box plots"
   ]
  },
  {
   "cell_type": "code",
   "execution_count": null,
   "metadata": {},
   "outputs": [],
   "source": [
    "fnum=1\n",
    "\n",
    "unique_cat=len(loc_venues['Category ID'].unique())+1\n",
    "bp={}                                                   # Box plot object dict.\n",
    "\n",
    "for i in range(0,unique_cat):\n",
    "    plt.figure()\n",
    "    plt.subplot(1,5,1)\n",
    "    Y=loc_venues.loc[loc_venues['Category ID']==categories[i],'Venue Latitude']\n",
    "    bp[categories[i]+'.Latitude']=(plt.boxplot(Y))\n",
    "    plt.xlabel('Latitude')\n",
    "    plt.xticks([])\n",
    "    plt.title(str(cat_dict[categories[i]]))\n",
    "\n",
    "    plt.subplot(1,5,5)\n",
    "    Y=loc_venues.loc[loc_venues['Category ID']==categories[i],'Venue Longitude']\n",
    "    bp[categories[i]+'.Longitude']=(plt.boxplot(Y))\n",
    "    plt.xlabel('Longitude')\n",
    "    plt.xticks([])\n",
    "    plt.title(str(cat_dict[categories[i]]))\n",
    "\n",
    "fnum=fnum+1"
   ]
  },
  {
   "cell_type": "markdown",
   "metadata": {},
   "source": [
    "### New dataframe for the venues with outliers removed and distance calculated from new centroid"
   ]
  },
  {
   "cell_type": "markdown",
   "metadata": {},
   "source": [
    "### Geo-distance shift in coordinates"
   ]
  },
  {
   "cell_type": "markdown",
   "metadata": {},
   "source": [
    "Define function to calculate distance based on geo-coordinates"
   ]
  },
  {
   "cell_type": "code",
   "execution_count": null,
   "metadata": {},
   "outputs": [],
   "source": [
    "def geodistance (coord1,coord2):\n",
    "    R = 6373.0                          ## Radius of Earth in kms.\n",
    "    latd1 = math.radians(coord1[0])     # Latitude of coord1 calculated in radians\n",
    "    lon1 = math.radians(coord1[1])     # Longitude of coord1 calculated in radians\n",
    "    latd2 = math.radians(coord2[0])     # Latitude of coord2 calculated in radians\n",
    "    lon2 = math.radians(coord2[1])     # Longitude of coord2 calculated in radians\n",
    "\n",
    "    dlon = lon2 - lon1\n",
    "    dlat = latd2 - latd1\n",
    "\n",
    "    a = math.sin(dlat / 2)**2 + math.cos(lat1) * math.cos(lat2) * math.sin(dlon / 2)**2\n",
    "    c = 2 * math.atan2(math.sqrt(a), math.sqrt(1 - a))\n",
    "    distance = R * c * 1000                    # Geo-distance in kms.\n",
    "    return distance"
   ]
  },
  {
   "cell_type": "markdown",
   "metadata": {},
   "source": [
    "## Encoding Venue Categories"
   ]
  },
  {
   "cell_type": "code",
   "execution_count": null,
   "metadata": {},
   "outputs": [],
   "source": [
    "cat_num_dict={cat_id:i for i,cat_id in enumerate(loc_venues['Category ID'].unique())}\n",
    "loc_venues['Cluster Labels']=loc_venues['Category ID'].apply(lambda x:cat_num_dict[x])\n",
    "loc_venues.head()"
   ]
  },
  {
   "cell_type": "markdown",
   "metadata": {},
   "source": [
    "## Display Results"
   ]
  },
  {
   "cell_type": "markdown",
   "metadata": {},
   "source": [
    "### Generate analyzed map array for each place using folium, and display location for each place"
   ]
  },
  {
   "cell_type": "code",
   "execution_count": null,
   "metadata": {},
   "outputs": [],
   "source": [
    "maps={}\n",
    "loc_results_lat=[]\n",
    "loc_results_long=[]\n",
    "zip_results={}\n",
    "\n",
    "kclusters=max(loc_venues['Cluster Labels'])+1\n",
    "\n",
    "for i,place in enumerate(places):\n",
    "    # create map\n",
    "    clustered=loc_venues[loc_venues['Address']==place]\n",
    "    lat_array=clustered['Venue Latitude']\n",
    "    long_array=clustered['Venue Longitude']\n",
    "    \n",
    "    # Calculate mean latitude and longitude\n",
    "    latitude=loc_venues_new_centroids[place][0]                        \n",
    "    longitude=loc_venues_new_centroids[place][1] \n",
    "    \n",
    "    # Update results latitude and longitude arrays\n",
    "    loc_results_lat.append(latitude)\n",
    "    loc_results_long.append(longitude)\n",
    "    \n",
    "    # Obtain Zipcode\n",
    "    url_zip=url_str_zip.format(CLIENT_ID, CLIENT_SECRET, latitude, longitude, VERSION,500,1)\n",
    "    zip_result=requests.get(url_zip).json()\n",
    "    try:\n",
    "        zip_results[place]=zip_result['response']['venues'][0]['location']['formattedAddress']\n",
    "    except:\n",
    "        zip_results[place]='0'\n",
    "    \n",
    "    print('Centroid at: '+str(round(latitude,5))+', '+str(round(longitude,5))\n",
    "          +', Address:',zip_results[place][0])\n",
    "\n",
    "    map_clusters = folium.Map(location=[latitude, longitude],zoom_start=10)\n",
    "\n",
    "    # set color scheme for the clusters\n",
    "    x = np.arange(kclusters)\n",
    "    ys = [j + x + (j*x)**2 for j in range(kclusters)]\n",
    "    colors_array = cm.rainbow(np.linspace(0, 1, len(ys)))\n",
    "    rainbow = [colors.rgb2hex(j) for j in colors_array]\n",
    "\n",
    "    # add markers to the map\n",
    "    markers_colors = []\n",
    "    for lat, lon, poi, cluster, category in zip(lat_array, long_array, \n",
    "                                      clustered.index, clustered['Cluster Labels'], clustered['Category ID']):\n",
    "        label = folium.Popup(str(poi) + ' Cluster: ' + str(cat_dict[category]), parse_html=True)\n",
    "        folium.CircleMarker(\n",
    "            [lat, lon],\n",
    "            radius=5,\n",
    "            popup=label,\n",
    "            color=rainbow[cluster],\n",
    "            fill=True,\n",
    "            fill_color=rainbow[cluster],\n",
    "            fill_opacity=0.7,\n",
    "                            ).add_to(map_clusters)\n",
    "    \n",
    "    folium.RegularPolygonMarker(location=[latitude, longitude], \n",
    "                                number_of_sides=5,\n",
    "                                popup='Centroid', \n",
    "                                color='red', \n",
    "                                fill=True,\n",
    "                                fill_color='yellow',\n",
    "                                fill_opacity=0.8, \n",
    "                                radius=7).add_to(map_clusters)\n",
    "    \n",
    "    maps[place]=map_clusters\n",
    "maps[place]"
   ]
  },
  {
   "cell_type": "markdown",
   "metadata": {},
   "source": [
    "### Get hotels near venues"
   ]
  },
  {
   "cell_type": "code",
   "execution_count": null,
   "metadata": {},
   "outputs": [],
   "source": [
    "hotel_category=['4bf58dd8d48988d1fa931735']                # Category for Hotels\n",
    "\n",
    "# Enter Hotel Search URL string\n",
    "url_str_hotels='https://api.foursquare.com/v2/venues/search?categoryId={}&client_id={}&client_secret={}&ll={},{}&v={}&radius={}&limit={}'\n",
    "\n",
    "df_hotels=df_loc.copy()\n",
    "\n",
    "df_hotels['Latitude']=[value[0] for value in loc_venues_new_centroids.values()] \n",
    "df_hotels['Longitude']=[value[1] for value in loc_venues_new_centroids.values()]\n",
    "# Get hotels list\n",
    "hotels=getNearbyVenues(names=df_hotels['Name'], latitudes=df_hotels['Latitude'],longitudes=df_hotels['Longitude'],\n",
    "                       url_link=url_str_hotels,categories=hotel_category,radius=hotel_radius)\n",
    "\n",
    "hotel_ids=hotels['Venue_id'].tolist()\n",
    "# Get Likes list for hotels\n",
    "likes_list=getVenueLikes(hotel_ids)\n",
    "\n",
    "hotels['Likes']=likes_list\n",
    "hotels['Distance [km]']=(hotels['Distance [m]']/1000).astype(int)\n",
    "\n",
    "hotels.drop(columns=['Category ID','Venue_id','Distance [m]'],inplace=True)\n",
    "hotels.sort_values(by=['Likes','Distance [km]'],ascending=[False,True],inplace=True)\n",
    "hotels.set_index('Venue',drop=True,inplace=True)\n",
    "\n",
    "# Cluster hotels by likes from 1 to 4\n",
    "likes_clusters=np.arange(1,5)\n",
    "likes_bracket=np.linspace(0,max(likes_list),5)\n",
    "hotels['Cluster Labels'] = hotels['Likes'].apply(lambda z: next((\n",
    "    likes_clusters[i] for i in range(len(likes_clusters)) if likes_bracket[i] <= z < likes_bracket[i + 1]), \n",
    "    likes_clusters[-1] if z == likes_bracket[-1] else None))\n",
    "\n",
    "hotels.drop(columns=['Cluster Labels'])"
   ]
  },
  {
   "cell_type": "markdown",
   "metadata": {},
   "source": [
    "### Plot map"
   ]
  },
  {
   "cell_type": "code",
   "execution_count": null,
   "metadata": {},
   "outputs": [],
   "source": [
    "hotel_maps={}\n",
    "zip_results={}\n",
    "kclusters=max(loc_venues['Cluster Labels'])+1\n",
    "\n",
    "for i,place in enumerate(places):\n",
    "    clustered=hotels[hotels.Address==place]\n",
    "\n",
    "    lat_array=clustered['Venue Latitude']\n",
    "    long_array=clustered['Venue Longitude']\n",
    "    \n",
    "    # Calculate mean latitude and longitude\n",
    "    latitude=loc_venues_new_centroids[place][0]                           \n",
    "    longitude=loc_venues_new_centroids[place][1]\n",
    "        \n",
    "    # create map\n",
    "    map_clusters = folium.Map(location=[latitude, longitude], zoom_start=10)\n",
    "    \n",
    "    # Obtain Zipcode\n",
    "    url_zip=url_str_zip.format(CLIENT_ID, CLIENT_SECRET, latitude, longitude, VERSION,500,1)\n",
    "    zip_result=requests.get(url_zip).json()\n",
    "    try:\n",
    "        zip_results[place]=zip_result['response']['venues'][0]['location']['formattedAddress']\n",
    "    except:\n",
    "        zip_results[place]='0'\n",
    "    \n",
    "    print('Centroid at: ' +str(round(latitude,5))+', '+str(round(longitude,5))\n",
    "          +',Centroid Address:',zip_results[place][0])\n",
    "\n",
    "    # set color scheme for the clusters\n",
    "    x = np.arange(kclusters)\n",
    "    ys = [j + x + (j*x)**2 for j in range(kclusters)]\n",
    "    colors_array = cm.rainbow(np.linspace(0, 1, len(ys)+1))\n",
    "    rainbow = [colors.rgb2hex(j) for j in colors_array]\n",
    "\n",
    "    # add markers to the map\n",
    "    markers_colors = []\n",
    "    for lat, lon, poi, cluster in zip(lat_array, long_array, \n",
    "                                    clustered.index, clustered['Cluster Labels']):\n",
    "        label = folium.Popup(str(poi) + ' Score(' + str(cluster)+'/4): ', parse_html=True)\n",
    "        folium.CircleMarker(\n",
    "            [lat, lon],\n",
    "            radius=5,\n",
    "            popup=label,\n",
    "            color=rainbow[cluster],\n",
    "            fill=True,\n",
    "            fill_color=rainbow[cluster],\n",
    "            fill_opacity=0.7,\n",
    "                            ).add_to(map_clusters)\n",
    "    folium.RegularPolygonMarker(location=[latitude, longitude], \n",
    "                            number_of_sides=5,\n",
    "                            popup='Centroid', \n",
    "                            color='red', \n",
    "                            fill=True,\n",
    "                            fill_color='yellow',\n",
    "                            fill_opacity=0.8,\n",
    "                            radius=7).add_to(map_clusters)\n",
    "    \n",
    "    hotel_maps[place]=map_clusters\n",
    "hotel_maps[place]"
   ]
  },
  {
   "cell_type": "code",
   "execution_count": null,
   "metadata": {},
   "outputs": [],
   "source": []
  }
 ],
 "metadata": {
  "kernelspec": {
   "display_name": "Python 3",
   "language": "python",
   "name": "python3"
  },
  "language_info": {
   "codemirror_mode": {
    "name": "ipython",
    "version": 3
   },
   "file_extension": ".py",
   "mimetype": "text/x-python",
   "name": "python",
   "nbconvert_exporter": "python",
   "pygments_lexer": "ipython3",
   "version": "3.12.4"
  }
 },
 "nbformat": 4,
 "nbformat_minor": 4
}
